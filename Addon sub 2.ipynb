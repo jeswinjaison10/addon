{
 "cells": [
  {
   "cell_type": "code",
   "execution_count": null,
   "metadata": {},
   "outputs": [],
   "source": [
    "#Write a python program to find the largest of 3 numbers\n",
    "a=int(input(\"Enter a number : \"))\n",
    "b=int(input(\"Enter a number : \"))\n",
    "c=int(input(\"Enter a number : \"))\n",
    "if a>b and a>c:\n",
    "    print(a,\"is greater.\")\n",
    "elif b>c:\n",
    "    print(b,\"is greater.\")\n",
    "else:\n",
    "    print(c,\"is greater.\")"
   ]
  },
  {
   "cell_type": "code",
   "execution_count": 10,
   "metadata": {},
   "outputs": [
    {
     "name": "stdout",
     "output_type": "stream",
     "text": [
      "105 126 147 168 189 210 231 252 273 294 315 336 357 378 399 420 441 462 483 504 525 546 567 588 609 630 651 672 693 714 735 756 777 798 "
     ]
    }
   ],
   "source": [
    "#Write a python program to find the numbers divisible by 3 and 7 from 100 to 800\n",
    "for i in range (100,800):\n",
    "    if i%3==0 and i%7==0:\n",
    "        print(i,end=\" \")\n",
    "    \n"
   ]
  },
  {
   "cell_type": "code",
   "execution_count": 13,
   "metadata": {},
   "outputs": [
    {
     "name": "stdout",
     "output_type": "stream",
     "text": [
      "Name : Alfred\n",
      "Roll no : 17\n",
      "Mark : 35\n"
     ]
    }
   ],
   "source": [
    "#Write a Python Program to accept the details of a student like name, roll number and mark and display it.\n",
    "a=input(\"Enter the name : \")\n",
    "b=int(input(\"Enter the roll no :\"))\n",
    "c=int(input(\"Enter the mark : \"))\n",
    "print(\"Name :\",a)\n",
    "print(\"Roll no :\",b)\n",
    "print(\"Mark :\",c)"
   ]
  },
  {
   "cell_type": "code",
   "execution_count": 14,
   "metadata": {},
   "outputs": [
    {
     "name": "stdout",
     "output_type": "stream",
     "text": [
      "125\n"
     ]
    }
   ],
   "source": [
    "#Write a python program to find the count of numbers divisible by 8 from 1 to 1000\n",
    "c=0\n",
    "for i in range(1,1001):\n",
    "    if i%8==0:\n",
    "        c=c+1\n",
    "print(c)\n"
   ]
  },
  {
   "cell_type": "code",
   "execution_count": 15,
   "metadata": {},
   "outputs": [
    {
     "name": "stdout",
     "output_type": "stream",
     "text": [
      "\n",
      "*\n",
      "**\n",
      "***\n",
      "****\n",
      "*****\n"
     ]
    }
   ],
   "source": [
    "#Write a Python program to construct the following pattern, using for loop.\n",
    "for i in range(6):\n",
    "    print(\"*\"*i)"
   ]
  },
  {
   "cell_type": "code",
   "execution_count": 16,
   "metadata": {},
   "outputs": [
    {
     "data": {
      "text/plain": [
       "25"
      ]
     },
     "execution_count": 16,
     "metadata": {},
     "output_type": "execute_result"
    }
   ],
   "source": [
    "#Write a Python function called exponent(base,exp) that returns an integer value of base raises to the power of exp.\n",
    "b= int(input(\"Enter base : \"))\n",
    "e= int(input(\"Enter exponent : \"))\n",
    "def exponent(b, e):\n",
    "    return(b**e)\n",
    "exponent(b,e)"
   ]
  },
  {
   "cell_type": "code",
   "execution_count": 17,
   "metadata": {},
   "outputs": [
    {
     "name": "stdout",
     "output_type": "stream",
     "text": [
      "1 -odd\n",
      "2 -even\n",
      "3 -odd\n",
      "4 -even\n",
      "5 -odd\n",
      "6 -even\n",
      "7 -odd\n",
      "8 -even\n",
      "9 -odd\n",
      "10 -even\n",
      "11 -odd\n",
      "12 -even\n",
      "13 -odd\n",
      "14 -even\n",
      "15 -odd\n"
     ]
    }
   ],
   "source": [
    "#Write a Python program using for loop that will iterate from 1 to 15. For each iteration, check if the current number is odd or even, and display the message to the screen as odd or even.\n",
    "for i in range(1,16):\n",
    "    if i%2==0:\n",
    "        print(i,\"-even\")\n",
    "    else:\n",
    "        print(i,\"-odd\")"
   ]
  },
  {
   "cell_type": "code",
   "execution_count": 26,
   "metadata": {},
   "outputs": [
    {
     "name": "stdout",
     "output_type": "stream",
     "text": [
      "In Fahrenheit :  131.0 F\n"
     ]
    }
   ],
   "source": [
    "#Write a Python program to convert temperatures to and from Celsius Fahrenheit. \n",
    "d=input(\"Enter the temperature : \")\n",
    "if d[-1].upper()==\"C\":\n",
    "    D=int(d[:-1])\n",
    "    r = (9 * D) / 5 + 32\n",
    "    print(\"In Fahrenheit : \",r,\"F\")\n",
    "elif d[-1].upper()==\"F\":\n",
    "    D=int(d[:-1])\n",
    "    r = (D - 32) * 5 / 9\n",
    "    print(\"In Celsius : \",r,\"C\")\n"
   ]
  },
  {
   "cell_type": "code",
   "execution_count": 19,
   "metadata": {},
   "outputs": [
    {
     "name": "stdout",
     "output_type": "stream",
     "text": [
      "38,40,42,44,46,48,50,52,54,56,58,60,62,64,66,68,70,72,74,76,78,80,82,84,86,88,90,92,94,96,98,100,102,104,106,108,110,112,114,116,118,120,122,124,126,128,130,132,134,136,138,140,142,144,146,148,150,152,154,156,158,"
     ]
    }
   ],
   "source": [
    "#Write a python program using for loop to print the even numbers between 37 and 159.\n",
    "for i in range(37,159):\n",
    "    if i%2==0:\n",
    "        print(i,end=\",\")"
   ]
  },
  {
   "cell_type": "code",
   "execution_count": 23,
   "metadata": {},
   "outputs": [
    {
     "name": "stdout",
     "output_type": "stream",
     "text": [
      "The Sum of 10 Numbers     =  55\n",
      "The Average of 10 Numbers =  5.5\n"
     ]
    }
   ],
   "source": [
    "# Write a python program to accept 10 numbers from the user and find its average\n",
    "Sum=0\n",
    "for i in range(1, 11):\n",
    "    n= int(input(\"Enter a number : \"))\n",
    "    Sum = Sum + n\n",
    "\n",
    "avg = Sum / 10\n",
    "\n",
    "print(\"The Sum of 10 Numbers     = \", Sum)\n",
    "print(\"The Average of 10 Numbers = \", avg)"
   ]
  },
  {
   "cell_type": "code",
   "execution_count": null,
   "metadata": {},
   "outputs": [],
   "source": [
    "\n"
   ]
  }
 ],
 "metadata": {
  "kernelspec": {
   "display_name": "base",
   "language": "python",
   "name": "python3"
  },
  "language_info": {
   "codemirror_mode": {
    "name": "ipython",
    "version": 3
   },
   "file_extension": ".py",
   "mimetype": "text/x-python",
   "name": "python",
   "nbconvert_exporter": "python",
   "pygments_lexer": "ipython3",
   "version": "3.6.5"
  },
  "orig_nbformat": 4,
  "vscode": {
   "interpreter": {
    "hash": "ad2bdc8ecc057115af97d19610ffacc2b4e99fae6737bb82f5d7fb13d2f2c186"
   }
  }
 },
 "nbformat": 4,
 "nbformat_minor": 2
}
